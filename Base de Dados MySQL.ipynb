{
 "cells": [
  {
   "cell_type": "markdown",
   "metadata": {},
   "source": [
    "### Base de dados\n",
    "\n",
    "Neste notebook vamos exemplificar como se pode pegar na informação que se extrai dos registos do Genbank e se insere num abase de dados.\n",
    "\n",
    "Nos exemplos seguintes faz-se o seguinte:\n",
    "- Cria-se um anova tabela em BD para receber os dados\n",
    "- Faz-se a extração de alguns dados do registo Genbank e inserem-se esses dados na tabela criada\n",
    "- Carrega-se o conteúdo da tabela de base de dados num tabela pandas.\n",
    "- Mostra-se um gráfico muito simples."
   ]
  },
  {
   "cell_type": "code",
   "execution_count": 2,
   "metadata": {},
   "outputs": [],
   "source": [
    "# pip3 install mysql-connector\n",
    "import mysql.connector as SQLC\n",
    "\n",
    "DataBase = SQLC.connect(\n",
    "   host =\"geo.di.uminho.pt\",\n",
    "   user =\"bioinformatica\",\n",
    "   password =\"20221207\",\n",
    "    database =\"bioinformatica\"\n",
    ")\n",
    "Cursor = DataBase.cursor()\n",
    "\n",
    "TableName =\"\"\"CREATE TABLE pg45477\n",
    "    (\n",
    "    locusid varchar(255) PRIMARY KEY, \n",
    "    dnasource text, \n",
    "    dnasequence LONGTEXT\n",
    "    );\n",
    "\"\"\"\n",
    "\n",
    "Cursor.execute(TableName)"
   ]
  },
  {
   "cell_type": "code",
   "execution_count": 3,
   "metadata": {},
   "outputs": [
    {
     "name": "stdout",
     "output_type": "stream",
     "text": [
      "HIVI5C Human immunodeficiency virus 1 (HIV-1) catccagtacatgcagggcctattgcaccaggccaaatgagagaaccaaggggaagtgacatagcaggaactacaagtacccttcaggaacaagtagcatggatgacaggtaacccacctgttccagtgggagaaatctataaaagatggataattctgggattaaataaaatagtaagaatgtatagccctgtcagcattttggacataaaacaagggccaaaggaaccc\n",
      "1 record inserted.\n"
     ]
    }
   ],
   "source": [
    "import re\n",
    "import mysql.connector as SQLC\n",
    "\n",
    "fonte = open(\"L42022.1.gb\",'r')\n",
    "# fonte = open(\"L42023.1.gb\",'r')\n",
    "locus = fonte.read()\n",
    "fonte.close()\n",
    "\n",
    "id = \"\"\n",
    "i = re.match(r'LOCUS\\s+(\\w+)', locus)\n",
    "if i:\n",
    "    id = i.group(1)\n",
    "organism = \"\"\n",
    "o = re.search(r'SOURCE\\s+.+', locus)\n",
    "if o:\n",
    "    s = re.match(r'SOURCE\\s+(.+)', o[0] )\n",
    "    if s:\n",
    "        organism = s.group(1)\n",
    "sequencia = \"\"\n",
    "existe = re.findall(r'^\\s+\\d+ [actg ]+', locus, re.MULTILINE )\n",
    "if existe:\n",
    "    for linha in existe:\n",
    "        m = re.match( r'\\s+\\d+ (.+)', linha, re.DOTALL )\n",
    "        # print( m.group(1) )\n",
    "        # print( re.sub(r'\\s+', '', m.group(1) ) ) \n",
    "        sequencia = sequencia + re.sub(r'\\s+', '', m.group(1) )\n",
    "print ( id, organism, sequencia )\n",
    "\n",
    "DataBase = SQLC.connect(\n",
    "    host =\"geo.di.uminho.pt\",\n",
    "    user =\"bioinformatica\",\n",
    "    password =\"20221207\",\n",
    "    database =\"bioinformatica\"\n",
    ")\n",
    "Cursor = DataBase.cursor()\n",
    "\n",
    "sql = \"INSERT INTO pg45477 (locusid, dnasource, dnasequence) VALUES (%s, %s, %s)\"\n",
    "val = (id, organism, sequencia)\n",
    "Cursor.execute(sql, val)\n",
    "\n",
    "DataBase.commit()\n",
    "\n",
    "print(Cursor.rowcount, \"record inserted.\")"
   ]
  },
  {
   "cell_type": "code",
   "execution_count": 4,
   "metadata": {},
   "outputs": [
    {
     "name": "stderr",
     "output_type": "stream",
     "text": [
      "C:\\Users\\Utilizador\\AppData\\Local\\Temp\\ipykernel_4176\\1114633029.py:10: UserWarning: pandas only supports SQLAlchemy connectable (engine/connection) or database string URI or sqlite3 DBAPI2 connection. Other DBAPI2 objects are not tested. Please consider using SQLAlchemy.\n",
      "  tabela = pd.read_sql(\"SELECT locusid, length(dnasequence) as comprimento FROM pg45477\",my_conn)\n"
     ]
    }
   ],
   "source": [
    "import mysql.connector\n",
    "import pandas as pd \n",
    "my_conn = mysql.connector.connect(\n",
    "    host =\"geo.di.uminho.pt\",\n",
    "    user =\"bioinformatica\",\n",
    "    password =\"20221207\",\n",
    "    database =\"bioinformatica\"\n",
    "    )\n",
    "####### end of connection ####\n",
    "tabela = pd.read_sql(\"SELECT locusid, length(dnasequence) as comprimento FROM pg45477\",my_conn)\n"
   ]
  },
  {
   "cell_type": "code",
   "execution_count": 5,
   "metadata": {},
   "outputs": [
    {
     "data": {
      "text/plain": "  locusid  comprimento\n0  HIVI5C          231",
      "text/html": "<div>\n<style scoped>\n    .dataframe tbody tr th:only-of-type {\n        vertical-align: middle;\n    }\n\n    .dataframe tbody tr th {\n        vertical-align: top;\n    }\n\n    .dataframe thead th {\n        text-align: right;\n    }\n</style>\n<table border=\"1\" class=\"dataframe\">\n  <thead>\n    <tr style=\"text-align: right;\">\n      <th></th>\n      <th>locusid</th>\n      <th>comprimento</th>\n    </tr>\n  </thead>\n  <tbody>\n    <tr>\n      <th>0</th>\n      <td>HIVI5C</td>\n      <td>231</td>\n    </tr>\n  </tbody>\n</table>\n</div>"
     },
     "execution_count": 5,
     "metadata": {},
     "output_type": "execute_result"
    }
   ],
   "source": [
    "tabela"
   ]
  },
  {
   "cell_type": "code",
   "execution_count": 6,
   "metadata": {},
   "outputs": [
    {
     "data": {
      "text/plain": "<matplotlib.collections.PathCollection at 0x2c17c583790>"
     },
     "execution_count": 6,
     "metadata": {},
     "output_type": "execute_result"
    },
    {
     "data": {
      "text/plain": "<Figure size 640x480 with 1 Axes>",
      "image/png": "[encoded data removed]"
     },
     "metadata": {},
     "output_type": "display_data"
    }
   ],
   "source": [
    "import matplotlib.pyplot as plt\n",
    "\n",
    "x = tabela.locusid\n",
    "y = tabela.comprimento\n",
    "plt.scatter( x, y)"
   ]
  }
 ],
 "metadata": {
  "kernelspec": {
   "display_name": "Python 3.10.6 64-bit",
   "language": "python",
   "name": "python3"
  },
  "language_info": {
   "codemirror_mode": {
    "name": "ipython",
    "version": 3
   },
   "file_extension": ".py",
   "mimetype": "text/x-python",
   "name": "python",
   "nbconvert_exporter": "python",
   "pygments_lexer": "ipython3",
   "version": "3.10.6"
  },
  "orig_nbformat": 4,
  "vscode": {
   "interpreter": {
    "hash": "916dbcbb3f70747c44a77c7bcd40155683ae19c65e1c03b4aa3499c5328201f1"
   }
  }
 },
 "nbformat": 4,
 "nbformat_minor": 2
}
